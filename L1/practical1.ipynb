{
 "cells": [
  {
   "cell_type": "markdown",
   "metadata": {},
   "source": [
    "# Practical 1: Introduction to Computational Geosciences"
   ]
  },
  {
   "cell_type": "markdown",
   "metadata": {},
   "source": [
    "## 1. Overview\n",
    "\n",
    "The goal of this practical is to get you familiar with how Jupyter Notebook (JN) works with a Python kernel, and introduce you to some basic computational tools. You may well have encountered JN in previous courses, in which case this practical may be quite straight forwards. However, there is nothing like a bit of repetition to \"ensure maximum retension\".\n",
    "\n",
    "A typical Notebook is composed of a series of cells, which may contain code or text. If it contains code to be executed, then this can be done by pressing \"SHIFT+ENTER\" - try it with the cell below."
   ]
  },
  {
   "cell_type": "code",
   "execution_count": null,
   "metadata": {},
   "outputs": [],
   "source": [
    "print('This all looks pretty easy')"
   ]
  },
  {
   "cell_type": "markdown",
   "metadata": {},
   "source": [
    "In general, when you use JN to tackle practical geoscience problems, you will need to import libraries and declare variables. Once this has been done, they will be available for all other cells. \n",
    "\n",
    "Let's start off by importing NumPy, which is the fundamental library for scientific computing in Python."
   ]
  },
  {
   "cell_type": "code",
   "execution_count": null,
   "metadata": {},
   "outputs": [],
   "source": [
    "import numpy as np"
   ]
  },
  {
   "cell_type": "markdown",
   "metadata": {},
   "source": [
    "If you type \"SHIFT+ENTER\" in the above cell, all that seems to happen is that you move on to the next cell. However, the libraries have now been imported, and you can tell that this has happened because a number now appears in the Import tag \"In [m]\", where m is an integer. This integer indicates the number of times a code execution has taken place in the entire notebook. Thus, if you type \"SHIFT+ENTER\" again in this cell, the Import tag will change to \"In [m+1]\". If you then go to another cell and enter \"SHIFT+ENTER\", its tag will change to \"In [m+2]\".\n",
    "\n",
    "Now that numpy has been imported, let's do some basic maths, and start by defining a simple function."
   ]
  },
  {
   "cell_type": "code",
   "execution_count": null,
   "metadata": {},
   "outputs": [],
   "source": [
    "def square(y):\n",
    "           return y*y"
   ]
  },
  {
   "cell_type": "markdown",
   "metadata": {},
   "source": [
    "Once this cell has been executed, then this function can be called from any other cell. Here, we compute this function with a random integer between 1 and 100 generated from NumPy: "
   ]
  },
  {
   "cell_type": "code",
   "execution_count": null,
   "metadata": {},
   "outputs": [],
   "source": [
    "y=np.random.randint(1,100)\n",
    "z=square(y)\n",
    "print('%d squared is %d' % (y,z))"
   ]
  },
  {
   "cell_type": "markdown",
   "metadata": {},
   "source": [
    "# 2. Plotting simple graphs\n",
    "\n",
    "One of the nice things about JN is that it is easy to make plots from the output of code that you have written. The code below plots a simple sinusoid between 0 and 2$\\pi$. "
   ]
  },
  {
   "cell_type": "code",
   "execution_count": null,
   "metadata": {},
   "outputs": [],
   "source": [
    "import matplotlib.pyplot as plt\n",
    "%matplotlib inline\n",
    "x=np.linspace(0,2*np.pi,100)\n",
    "plt.plot(x,np.sin(x), lw=2, color='red');"
   ]
  },
  {
   "cell_type": "markdown",
   "metadata": {},
   "source": [
    "The code first imports a library called matplotlib.pyplot. Matplotlib is a comprehesive library for creating static, animated and interactive visualizations in Python. Pyplot is a collection of functions that makes matplotlib work like MATLAB.\n",
    "\n",
    "The second line is included so that when the plt.plot command is executed, the figure is automatically dumped to screen.\n",
    "\n",
    "The next line specifies the sampling in x using the linspace function from NumPy. Here, 100 evenly spaced samples are taken between 0 and $2\\pi$. Try changing the number of samples to 10 and see what happens. The last line plots y vs x data as a continuous red line, with a line width of 2. \n",
    "\n",
    "The next type of plot we will generate is a histogram. To generate our dataset, we will use a NumPy function that produces random noise with a standard distribution. The mean of this standard distribution (mu) and its standard deviation (sigma) need to be defined, as well as the number of samples.\n"
   ]
  },
  {
   "cell_type": "code",
   "execution_count": null,
   "metadata": {},
   "outputs": [],
   "source": [
    "mu=100\n",
    "sigma=10\n",
    "y=np.random.normal(mu,sigma, size=100)\n",
    "plt.hist(y,10);"
   ]
  },
  {
   "cell_type": "markdown",
   "metadata": {},
   "source": [
    "Try playing around with these values - for example, change mu to 10000 and sigma to 100 - what does the plot look like?"
   ]
  },
  {
   "cell_type": "markdown",
   "metadata": {},
   "source": [
    "# 3. Contours, colourmaps and surfaces.\n",
    "\n",
    "In the next example, we will plot contours using the ax.contour(X,Y,Z) function of Matplotlib. The X and Y variables specify the sampling in the plane, and the Z values are the contour values. "
   ]
  },
  {
   "cell_type": "code",
   "execution_count": null,
   "metadata": {},
   "outputs": [],
   "source": [
    "x = np.arange(0.0, 12.0, 0.1)\n",
    "y = np.arange(0.0, 12.0, 0.1)\n",
    "X, Y = np.meshgrid(x, y)\n",
    "Z = np.sin(X)*np.cos(Y)\n",
    "fig, ax = plt.subplots(figsize=(5,5))\n",
    "ax.contour(X,Y,Z, 20);"
   ]
  },
  {
   "cell_type": "markdown",
   "metadata": {},
   "source": [
    "np.arange returns an array object containing evenly spaced values within a defined interval. Meshgrid creates a rectangular grid out of an array of x and y values. The function that is plotted is simply the product of a sin(X) and cos(Y). The second last line creates a figure and a grid of subplots - in this case just one - and allows the attributes of the figure to be controlled; in this case specifying the  size as 5x5 cm. The last line plots the contour, using 20 intervals."
   ]
  },
  {
   "cell_type": "markdown",
   "metadata": {},
   "source": [
    "It is also possible to define a contour plot by area instead of lines by using ax.contourf() instead of ax.contour, as below:"
   ]
  },
  {
   "cell_type": "code",
   "execution_count": null,
   "metadata": {},
   "outputs": [],
   "source": [
    "fig, ax = plt.subplots(figsize=(6,5))\n",
    "cf=ax.contourf(X,Y,Z, 10)\n",
    "fig.colorbar(cf, ax=ax);"
   ]
  },
  {
   "cell_type": "markdown",
   "metadata": {},
   "source": [
    "A colourbar has also been added via the fic.colorbar command. A continuous color scale can be achieved by increasing the number of intervals - for example, try a value of 50 instead of 10. Note that a default colormap is used for the above, and other choices exist, which can be invoked by the cmap function, as below:"
   ]
  },
  {
   "cell_type": "code",
   "execution_count": null,
   "metadata": {},
   "outputs": [],
   "source": [
    "fig, ax = plt.subplots(figsize=(6,5))\n",
    "cf=ax.contourf(X,Y,Z, 10, cmap='jet')\n",
    "fig.colorbar(cf, ax=ax);"
   ]
  },
  {
   "cell_type": "markdown",
   "metadata": {},
   "source": [
    "The last exercise in this section looks at plotting surfaces. This can be accomplished using ax.plot_surface(X,Y,Z). A simple example is illustrated below:"
   ]
  },
  {
   "cell_type": "code",
   "execution_count": null,
   "metadata": {},
   "outputs": [],
   "source": [
    "from mpl_toolkits.mplot3d import axes3d\n",
    "# set up 3-D grid of points\n",
    "x = np.arange(-5,5,0.1)\n",
    "y = np.arange(-5,5,0.1)\n",
    "X,Y = np.meshgrid(x,y)\n",
    "Z = X*np.exp(-X**2 - Y**2)\n",
    "fig = plt.figure(figsize=(10,10))\n",
    "# In the line below \"111\" means 1x1 grid of subplots, with the current subplot placed\n",
    "# in the top left grid. Of course, for a 1x1 grid, there is only one option!\n",
    "ax = fig.add_subplot(111, projection='3d')\n",
    "ax.plot_surface(X, Y, Z);"
   ]
  },
  {
   "cell_type": "markdown",
   "metadata": {},
   "source": [
    "# 3. Conditional statements and loops\n",
    "\n",
    "Conditional statements are an inherent part of computer coding. The code below demonstrates the use of an \"if\" statement:"
   ]
  },
  {
   "cell_type": "code",
   "execution_count": null,
   "metadata": {},
   "outputs": [],
   "source": [
    "a = 20\n",
    "b = 25\n",
    "if a == b:\n",
    "    print('yes')\n",
    "else:\n",
    "    print('no')"
   ]
  },
  {
   "cell_type": "markdown",
   "metadata": {},
   "source": [
    "As you can see, if you set a=b, then the answer will be yes, not no. Note the colons at the end of \"if\" and \"else\", and that the result of the condition being satisfied is indented. It is also possible to have a sequence of conditions, as demonstrated below:"
   ]
  },
  {
   "cell_type": "code",
   "execution_count": null,
   "metadata": {},
   "outputs": [],
   "source": [
    "x=1111221\n",
    "if x % 4 == 0 and len(str(x)) > 7:\n",
    "   print(\"x is divisible by 4 and is greater than 9999999\")\n",
    "elif x % 4 == 0 or len(str(x)) > 2:\n",
    "   print(\"x is divisible by 4 or x is greater than 99\")\n",
    "elif x % 9 == 0 and len(str(x)) > 4:\n",
    "   print(\"x is divisible by 9\")\n",
    "else:\n",
    "    print(\"None of the above\")"
   ]
  },
  {
   "cell_type": "markdown",
   "metadata": {},
   "source": [
    "In the above, \"elif\" means \"else if\". x % 4 refers to the modulus, or remainder of taking x/4. If this equals zero, then the condition is satisfied. len(str(x)) refers to the length of the string, or number of digits that make up x. Is it obvious why we get this particular output? In the first \"elif\" statement, try changing \"or\" to \"and\" and see what happens."
   ]
  },
  {
   "cell_type": "markdown",
   "metadata": {},
   "source": [
    "Now we will investigate loops. One common type of loop is a for-loop, an example of which is provided below:"
   ]
  },
  {
   "cell_type": "code",
   "execution_count": null,
   "metadata": {},
   "outputs": [],
   "source": [
    "total=0\n",
    "for num in (-10,-8,-6,-4,-2,0,2,4,6,8,10):\n",
    "    if num > 0:\n",
    "        total=total+num\n",
    "print(total)"
   ]
  },
  {
   "cell_type": "markdown",
   "metadata": {},
   "source": [
    "Is it clear why you get this result? \n",
    "\n",
    "The next kind of loop we examine is a while-loop. It allows you to repeat a block of code until a condition is no longer true. Take the example below:"
   ]
  },
  {
   "cell_type": "code",
   "execution_count": null,
   "metadata": {},
   "outputs": [],
   "source": [
    "total = 0\n",
    "m=0\n",
    "mu=0\n",
    "sigma=5\n",
    "n=100\n",
    "y=np.random.normal(mu,sigma,size=n)\n",
    "while m < n:\n",
    "    total=total+y[m]\n",
    "    m += 1\n",
    "print(total)"
   ]
  },
  {
   "cell_type": "markdown",
   "metadata": {},
   "source": [
    "Note that the above could be written more efficiently as"
   ]
  },
  {
   "cell_type": "code",
   "execution_count": null,
   "metadata": {},
   "outputs": [],
   "source": [
    "print(np.sum([np.random.normal(mu,sigma) for _ in range(n)]))"
   ]
  },
  {
   "cell_type": "markdown",
   "metadata": {},
   "source": [
    "# 4. Importing data\n",
    "\n",
    "So far, all the manipulation of numbers has been internal to the code, but in practice, we will want to import data. A great library for handling datasets is Pandas, and it can be imported using"
   ]
  },
  {
   "cell_type": "code",
   "execution_count": null,
   "metadata": {},
   "outputs": [],
   "source": [
    "import pandas as pd"
   ]
  },
  {
   "cell_type": "markdown",
   "metadata": {},
   "source": [
    "In the same directory that you launched this practical from, there should also be a file called teleseismicZ.txt, and it can be read in and plotted as follows"
   ]
  },
  {
   "cell_type": "code",
   "execution_count": null,
   "metadata": {
    "scrolled": true
   },
   "outputs": [],
   "source": [
    "filename='teleseismicZ.txt'\n",
    "data=pd.read_csv(filename, header=None, delimiter=r\"\\s+\").values\n",
    "x=data[:,0]\n",
    "y=data[:,1]\n",
    "plt.figure(figsize=(12,4))\n",
    "plt.plot(x,y, lw=1, color='green');"
   ]
  },
  {
   "cell_type": "markdown",
   "metadata": {},
   "source": [
    "The input parameters used above indicate that there is no header present, and that there is variable white space between the columns. The data are saved as an array called data, and this is separated into x and y variables before being plotted.\n",
    "\n",
    "Does the above plot look familiar? It's a very nice teleseismic waveform used in one of my part 2 practicals for earthquake location. As well as multiple body wave arrivals, the dispersive wavetrain shows up very clearly."
   ]
  },
  {
   "cell_type": "markdown",
   "metadata": {},
   "source": [
    "# 5. Optional exercise\n",
    "\n",
    "If you have any time left, you might want to try the following: In addition to teleseismicZ.txt (vertical component seismogram), there is also teleseismicE.txt (E-W component) and teleseismicN.txt (N-S component). Try writing a script that will plot all three commponents in a single figure, in the order Z, N, E. As an added challenge, try colouring the plots as blue, green and red respectively (for Z, N and E), and add labels to identify each component."
   ]
  },
  {
   "cell_type": "code",
   "execution_count": null,
   "metadata": {},
   "outputs": [],
   "source": []
  }
 ],
 "metadata": {
  "kernelspec": {
   "display_name": "Python 3",
   "language": "python",
   "name": "python3"
  },
  "language_info": {
   "codemirror_mode": {
    "name": "ipython",
    "version": 3
   },
   "file_extension": ".py",
   "mimetype": "text/x-python",
   "name": "python",
   "nbconvert_exporter": "python",
   "pygments_lexer": "ipython3",
   "version": "3.6.9"
  }
 },
 "nbformat": 4,
 "nbformat_minor": 4
}
